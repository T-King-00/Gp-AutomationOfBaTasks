{
  "nbformat": 4,
  "nbformat_minor": 0,
  "metadata": {
    "colab": {
      "provenance": [],
      "include_colab_link": true
    },
    "kernelspec": {
      "name": "python3",
      "display_name": "Python 3"
    },
    "language_info": {
      "name": "python"
    },
    "gpuClass": "standard"
  },
  "cells": [
    {
      "cell_type": "markdown",
      "metadata": {
        "id": "view-in-github",
        "colab_type": "text"
      },
      "source": [
        "<a href=\"https://colab.research.google.com/github/T-King-00/Gp-AutomationOfBaTasks/blob/tony/practicingNlp.ipynb\" target=\"_parent\"><img src=\"https://colab.research.google.com/assets/colab-badge.svg\" alt=\"Open In Colab\"/></a>"
      ]
    },
    {
      "cell_type": "code",
      "source": [],
      "metadata": {
        "id": "fIa8uNEd69_y",
        "colab": {
          "base_uri": "https://localhost:8080/"
        },
        "outputId": "d4116ddc-9329-4dbb-b37a-e9cace108d3b"
      },
      "execution_count": null,
      "outputs": [
        {
          "output_type": "stream",
          "name": "stdout",
          "text": [
            "Drive already mounted at /content/drive; to attempt to forcibly remount, call drive.mount(\"/content/drive\", force_remount=True).\n"
          ]
        }
      ]
    },
    {
      "cell_type": "code",
      "source": [
        "! pip3 install PyGithub\n",
        "from github import Github\n",
        "\n",
        "\n",
        "import requests\n",
        "response = requests.get('https://raw.githubusercontent.com/T-King-00/Gp-AutomationOfBaTasks/tony/university.txt')\n",
        "file = response.text\n",
        "\n",
        "\n",
        "print(file)"
      ],
      "metadata": {
        "id": "SpBTVs_RdIyy",
        "outputId": "533bbe60-3bfa-4043-9849-ad19fed5ca77",
        "colab": {
          "base_uri": "https://localhost:8080/"
        }
      },
      "execution_count": 5,
      "outputs": [
        {
          "output_type": "stream",
          "name": "stdout",
          "text": [
            "Looking in indexes: https://pypi.org/simple, https://us-python.pkg.dev/colab-wheels/public/simple/\n",
            "Requirement already satisfied: PyGithub in /usr/local/lib/python3.8/dist-packages (1.57)\n",
            "Requirement already satisfied: pynacl>=1.4.0 in /usr/local/lib/python3.8/dist-packages (from PyGithub) (1.5.0)\n",
            "Requirement already satisfied: requests>=2.14.0 in /usr/local/lib/python3.8/dist-packages (from PyGithub) (2.25.1)\n",
            "Requirement already satisfied: pyjwt>=2.4.0 in /usr/local/lib/python3.8/dist-packages (from PyGithub) (2.6.0)\n",
            "Requirement already satisfied: deprecated in /usr/local/lib/python3.8/dist-packages (from PyGithub) (1.2.13)\n",
            "Requirement already satisfied: cffi>=1.4.1 in /usr/local/lib/python3.8/dist-packages (from pynacl>=1.4.0->PyGithub) (1.15.1)\n",
            "Requirement already satisfied: urllib3<1.27,>=1.21.1 in /usr/local/lib/python3.8/dist-packages (from requests>=2.14.0->PyGithub) (1.24.3)\n",
            "Requirement already satisfied: idna<3,>=2.5 in /usr/local/lib/python3.8/dist-packages (from requests>=2.14.0->PyGithub) (2.10)\n",
            "Requirement already satisfied: chardet<5,>=3.0.2 in /usr/local/lib/python3.8/dist-packages (from requests>=2.14.0->PyGithub) (4.0.0)\n",
            "Requirement already satisfied: certifi>=2017.4.17 in /usr/local/lib/python3.8/dist-packages (from requests>=2.14.0->PyGithub) (2022.12.7)\n",
            "Requirement already satisfied: wrapt<2,>=1.10 in /usr/local/lib/python3.8/dist-packages (from deprecated->PyGithub) (1.14.1)\n",
            "Requirement already satisfied: pycparser in /usr/local/lib/python3.8/dist-packages (from cffi>=1.4.1->pynacl>=1.4.0->PyGithub) (2.21)\n",
            "As a participant, I do not want the site shut down while I’m in the midst of a quiz or video so that my progress isn’t interrupted.\n",
            "As a participant, I can participate in a forum for a course so that I can discuss questions and topics with the instructor and other participants.\n",
            "As an instructor, I can post announcements to a project “home page” for a Scheduled Course so that I can tell participants about important thinks such as “I’m delayed in posting chapter 7.”.\n",
            "As a participant, I can read announcements from an instructor for a Scheduled Course so that I can keep up to date on news.\n",
            "As an instructor, I can create quizzes so that participants can assess their learning.\n",
            "As a participant, I can take a quiz as part of a course so that I can get feedback on how well I learned material in the previous video(s).\n",
            "As a participant, I see if I pass a quiz after I finish taking it so that I can get feedback on how well I learned material in the previous video(s).\n",
            "As an instructor, I want quiz responses stored in the database so that I can see how people are doing at various questions, perhaps so I can fix one that is worded poorly.\n",
            "As a participant, I can see which quizzes I’ve passed, not passed, or not yet taken when viewing the course outline so that I know which quizzes I need to take or possibly re-take.\n",
            "As a participant, I can leave a comment about a course so that I can tell the world what I think of it.\n",
            "As a participant, I want to receive feedback after each quiz question so that I can see if I got the question right or wrong.\n",
            "As a participant, I can navigate a quiz by submitting an answer or by pressing skip (forward) or back so that I can answer questions in a different order if I’d like.\n",
            "As a site visitor, I can read an FAQ so that all my questions are answered.As a participant, I can get answers via video rather than text so that I watch rather than read an answer\n",
            "As a search engine, I can view a site map so that all pages are indexed.\n",
            "As an instructor, I can view all feedback for a course when logged in so that I can see historical or aggregate data on my courses.\n",
            "As a participant, I can manage my account so that it reflects my current information.\n",
            "As a participant, I can view a list of all courses I’ve taken and the PDUs each earned me so that I have access to that historical information and don’t call someone instead.\n",
            "As an instructor, I can upload videos to be part of a course so that participants can watch those videos.\n",
            "As an instructor, I can create a quiz to include in a video course so that participants can take those quizzes to ensure they are learning\n",
            "As an instructor, I can properly sequence the elements of course so that I can assemble them into an amazing course.\n",
            "As an instructor, I indicate whether a discussion forum is part of a course so that I can add a forum to some but not all courses.\n",
            "As an instructor, I can indicate the schedule for a course so that prospective participants and participants can see what course elements will be presented each week and what they’ll be.\n",
            "As an instructor, I can set the publication date for course elements (for a scheduled course) so that items become available when I want and not sooner.\n",
            "As an instructor, I can add subtitles to any video so that it is more accessible.\n",
            "As an instructor, I can set the thumbnail image for each video so that the image is one I like rather than randomly selected.\n",
            "As a site owner, I want all videos to be watermarked with a Front Row Agile logo so that the videos are clearly from the Front Row Agile site.\n",
            "As a trainer, I can set the prices for my course so that I can make filthy lucre.\n",
            "As a trainer, I can set quantity thresholds and discounts so that I can offer lower prices for larger orders such as “buy three, get 10% off”.\n",
            "As a trainer, I can create discount codes I can give to people so that I can customise pricing.\n",
            "As a site visitor, I can put courses in my shopping cart so that I can purchase them and participate in (watch) them.\n",
            "As a site visitor, I can put one chapter of a course in my shopping cart so that I can purchase just a part of a course.\n",
            "As a site visitor, I can pay for the courses in my cart with a credit card so that I can purchase them and participate in (watch) them.\n",
            "As a site visitor, I can pay for the courses in my cart with PayPal so that I can purchase them and participate in (watch) them.\n",
            "As a buyer, I receive a receipt for any course I pay for so that I can prove I paid for it.\n",
            "As a participant, I can announce my participation in a course at various times to various social media sites so that I can tell others about what I’m doing.\n",
            "As a user, I can view the license terms before purchasing or subscribing so that I know what I’m getting.\n",
            "As a participant, I can sign up for a monthly or annual subscription so that I can take all courses .\n",
            "As a company, I can purchase multiple licenses so that I can manage course registrations for a group of people.\n",
            "As a company, I manage a set of course registrations so that I can control which employees in my company have access to which courses.\n",
            "As a company, I can purchase a site license so that everyone in my company can take the course.\n",
            "As a participant, I can re-watch any video so that I can make sure I understand it.\n",
            "As a participant, I want each course element (such as a video) marked as viewed after I view or complete it so that I can see which parts of a course I’ve completed.\n",
            "As a site visitor, I can view some videos for free so that I can decide if I want to buy the full course.\n",
            "As a participant, I can set a mode on the videos so that one begins as the previous one finishes so that I can watch without having to touch my keyboard, mouse or screen.\n",
            "As a participant, I am shown a page telling me how to get learning credits after I complete the course so that I earn the credit I might have been interested in.\n",
            "As a participant, I can earn a certificate of completion by finishing a course so that I have proof that I completed a course.\n",
            "As a participant, I can earn a badge showing that I completed a course so that I can display that badge on my own website.\n",
            "As an instructor, I can leave a comment about a sample video or the course so that I can respond to other comments.\n",
            "As an instructor, I can create a description of a course so that prospective participants can learn about it.\n",
            "As a site visitor, I can browse a catalog of all courses available so that I can pick the right one for me.\n",
            "As an instructor, I can maintain a bio about myself so that it is used on any course listing for which I’m the instructor.\n",
            "As a site visitor, I can view a detailed page about each course so that I can learn all about it.\n",
            "As a site visitor, I can see a list of other related courses when viewing a course so that I can see other courses I might be interested in.\n",
            "As a participant, I am shown an evaluation form after completing a course so that I can tell FrontRowAgile.com what I think of their classes and their devilishly good-looking trainers.\n",
            "As an instructor, I can opt into receiving an email of every course evaluation as it completed by a participant so that I get real-time feedback on my courses.\n",
            "As a site visitor, I can read a privacy policy so that I know what’s private.\n",
            "As a participant, I have a page I can link to and share with others that shows all the training courses I’ve completed so that people can see all the great stuff I’ve learned.\n",
            "As an instructor, I can export all feedback for a course to a CSV file so that I can perform more in-depth analysis.\n",
            "As a site visitor, I can sign up for a newsletter so that I get announcements about new courses and other information.\n",
            "As a site visitor, I see “Featured Products” on the home page so that I see the products the site most wants all visitors to see.\n"
          ]
        }
      ]
    },
    {
      "cell_type": "code",
      "source": [
        "from spacy.language import Language\n",
        "! pip install -U spacy\n",
        "import spacy"
      ],
      "metadata": {
        "id": "gSixyAQyCOVF",
        "outputId": "ec9c74df-dd0d-42d8-ad93-d20086461d97",
        "colab": {
          "base_uri": "https://localhost:8080/"
        }
      },
      "execution_count": 11,
      "outputs": [
        {
          "output_type": "stream",
          "name": "stdout",
          "text": [
            "Looking in indexes: https://pypi.org/simple, https://us-python.pkg.dev/colab-wheels/public/simple/\n",
            "Requirement already satisfied: spacy in /usr/local/lib/python3.8/dist-packages (3.4.4)\n",
            "Collecting spacy\n",
            "  Downloading spacy-3.5.0-cp38-cp38-manylinux_2_17_x86_64.manylinux2014_x86_64.whl (6.7 MB)\n",
            "\u001b[2K     \u001b[90m━━━━━━━━━━━━━━━━━━━━━━━━━━━━━━━━━━━━━━━━\u001b[0m \u001b[32m6.7/6.7 MB\u001b[0m \u001b[31m43.6 MB/s\u001b[0m eta \u001b[36m0:00:00\u001b[0m\n",
            "\u001b[?25hRequirement already satisfied: jinja2 in /usr/local/lib/python3.8/dist-packages (from spacy) (2.11.3)\n",
            "Requirement already satisfied: spacy-loggers<2.0.0,>=1.0.0 in /usr/local/lib/python3.8/dist-packages (from spacy) (1.0.4)\n",
            "Requirement already satisfied: spacy-legacy<3.1.0,>=3.0.11 in /usr/local/lib/python3.8/dist-packages (from spacy) (3.0.12)\n",
            "Requirement already satisfied: requests<3.0.0,>=2.13.0 in /usr/local/lib/python3.8/dist-packages (from spacy) (2.25.1)\n",
            "Requirement already satisfied: preshed<3.1.0,>=3.0.2 in /usr/local/lib/python3.8/dist-packages (from spacy) (3.0.8)\n",
            "Requirement already satisfied: wasabi<1.2.0,>=0.9.1 in /usr/local/lib/python3.8/dist-packages (from spacy) (0.10.1)\n",
            "Requirement already satisfied: langcodes<4.0.0,>=3.2.0 in /usr/local/lib/python3.8/dist-packages (from spacy) (3.3.0)\n",
            "Requirement already satisfied: thinc<8.2.0,>=8.1.0 in /usr/local/lib/python3.8/dist-packages (from spacy) (8.1.7)\n",
            "Requirement already satisfied: murmurhash<1.1.0,>=0.28.0 in /usr/local/lib/python3.8/dist-packages (from spacy) (1.0.9)\n",
            "Requirement already satisfied: cymem<2.1.0,>=2.0.2 in /usr/local/lib/python3.8/dist-packages (from spacy) (2.0.7)\n",
            "Requirement already satisfied: numpy>=1.15.0 in /usr/local/lib/python3.8/dist-packages (from spacy) (1.21.6)\n",
            "Requirement already satisfied: pydantic!=1.8,!=1.8.1,<1.11.0,>=1.7.4 in /usr/local/lib/python3.8/dist-packages (from spacy) (1.10.4)\n",
            "Requirement already satisfied: typer<0.8.0,>=0.3.0 in /usr/local/lib/python3.8/dist-packages (from spacy) (0.7.0)\n",
            "Requirement already satisfied: srsly<3.0.0,>=2.4.3 in /usr/local/lib/python3.8/dist-packages (from spacy) (2.4.5)\n",
            "Requirement already satisfied: tqdm<5.0.0,>=4.38.0 in /usr/local/lib/python3.8/dist-packages (from spacy) (4.64.1)\n",
            "Requirement already satisfied: packaging>=20.0 in /usr/local/lib/python3.8/dist-packages (from spacy) (23.0)\n",
            "Requirement already satisfied: smart-open<7.0.0,>=5.2.1 in /usr/local/lib/python3.8/dist-packages (from spacy) (6.3.0)\n",
            "Requirement already satisfied: setuptools in /usr/local/lib/python3.8/dist-packages (from spacy) (57.4.0)\n",
            "Requirement already satisfied: pathy>=0.10.0 in /usr/local/lib/python3.8/dist-packages (from spacy) (0.10.1)\n",
            "Requirement already satisfied: catalogue<2.1.0,>=2.0.6 in /usr/local/lib/python3.8/dist-packages (from spacy) (2.0.8)\n",
            "Requirement already satisfied: typing-extensions>=4.2.0 in /usr/local/lib/python3.8/dist-packages (from pydantic!=1.8,!=1.8.1,<1.11.0,>=1.7.4->spacy) (4.4.0)\n",
            "Requirement already satisfied: idna<3,>=2.5 in /usr/local/lib/python3.8/dist-packages (from requests<3.0.0,>=2.13.0->spacy) (2.10)\n",
            "Requirement already satisfied: certifi>=2017.4.17 in /usr/local/lib/python3.8/dist-packages (from requests<3.0.0,>=2.13.0->spacy) (2022.12.7)\n",
            "Requirement already satisfied: chardet<5,>=3.0.2 in /usr/local/lib/python3.8/dist-packages (from requests<3.0.0,>=2.13.0->spacy) (4.0.0)\n",
            "Requirement already satisfied: urllib3<1.27,>=1.21.1 in /usr/local/lib/python3.8/dist-packages (from requests<3.0.0,>=2.13.0->spacy) (1.24.3)\n",
            "Requirement already satisfied: confection<1.0.0,>=0.0.1 in /usr/local/lib/python3.8/dist-packages (from thinc<8.2.0,>=8.1.0->spacy) (0.0.4)\n",
            "Requirement already satisfied: blis<0.8.0,>=0.7.8 in /usr/local/lib/python3.8/dist-packages (from thinc<8.2.0,>=8.1.0->spacy) (0.7.9)\n",
            "Requirement already satisfied: click<9.0.0,>=7.1.1 in /usr/local/lib/python3.8/dist-packages (from typer<0.8.0,>=0.3.0->spacy) (7.1.2)\n",
            "Requirement already satisfied: MarkupSafe>=0.23 in /usr/local/lib/python3.8/dist-packages (from jinja2->spacy) (2.0.1)\n",
            "Installing collected packages: spacy\n",
            "  Attempting uninstall: spacy\n",
            "    Found existing installation: spacy 3.4.4\n",
            "    Uninstalling spacy-3.4.4:\n",
            "      Successfully uninstalled spacy-3.4.4\n",
            "\u001b[31mERROR: pip's dependency resolver does not currently take into account all the packages that are installed. This behaviour is the source of the following dependency conflicts.\n",
            "en-core-web-sm 3.4.1 requires spacy<3.5.0,>=3.4.0, but you have spacy 3.5.0 which is incompatible.\u001b[0m\u001b[31m\n",
            "\u001b[0mSuccessfully installed spacy-3.5.0\n"
          ]
        }
      ]
    },
    {
      "cell_type": "code",
      "source": [
        "@Language.component(\"custom_sentencizer\")\n",
        "def custom_sentencizer(doc):\n",
        "    for i, token in enumerate(doc[:-1]):\n",
        "    \n",
        "        if token.text == \".\" and token.text == \"As\" :\n",
        "          doc[i + 1].is_sent_start = True\n",
        "        elif  token.text == \"As\":\n",
        "          doc[i].is_sent_start = True\n",
        "        else:\n",
        "            # Explicitly set sentence start to False otherwise, to tell\n",
        "            # the parser to leave those tokens alone\n",
        "            doc[i + 1].is_sent_start = False\n",
        "    return doc\n",
        "\n",
        "nlp = spacy.load(\"en_core_web_sm\")\n",
        "nlp.add_pipe(\"custom_sentencizer\", before=\"parser\")  # Insert before the parser\n"
      ],
      "metadata": {
        "colab": {
          "base_uri": "https://localhost:8080/"
        },
        "id": "oxKoDEN8Twgk",
        "outputId": "a058d39b-5cc0-40d2-a66b-92f2f2b69c4a"
      },
      "execution_count": 12,
      "outputs": [
        {
          "output_type": "execute_result",
          "data": {
            "text/plain": [
              "<function __main__.custom_sentencizer(doc)>"
            ]
          },
          "metadata": {},
          "execution_count": 12
        }
      ]
    },
    {
      "cell_type": "code",
      "source": [
        "###try 1\n",
        "doc = nlp(\"This is sentence As is Another sentence, tony\")\n",
        "for sent in doc.sents:\n",
        "  print(\"####\")\n",
        "  print(sent.text)"
      ],
      "metadata": {
        "id": "T86Dq2m8Y6LT",
        "outputId": "8507b66a-0a07-4bfc-fc40-dfc4e595e5e4",
        "colab": {
          "base_uri": "https://localhost:8080/"
        }
      },
      "execution_count": 13,
      "outputs": [
        {
          "output_type": "stream",
          "name": "stdout",
          "text": [
            "####\n",
            "This is sentence\n",
            "####\n",
            "As is Another sentence, tony\n"
          ]
        }
      ]
    },
    {
      "cell_type": "code",
      "source": [
        "###try 2\n",
        "doc1=nlp(file)\n",
        "for i,sentenceVar in enumerate(doc1.sents):\n",
        "  print(i ,sentenceVar)\n"
      ],
      "metadata": {
        "colab": {
          "base_uri": "https://localhost:8080/"
        },
        "id": "KjOzAELtWvnT",
        "outputId": "1c20a969-65c1-42f0-9cf4-a0ea2053bd1d"
      },
      "execution_count": 14,
      "outputs": [
        {
          "output_type": "stream",
          "name": "stdout",
          "text": [
            "0 As a participant, I do not want the site shut down while I’m in the midst of a quiz or video so that my progress isn’t interrupted.\r\n",
            "\n",
            "1 As a participant, I can participate in a forum for a course so that I can discuss questions and topics with the instructor and other participants.\r\n",
            "\n",
            "2 As an instructor, I can post announcements to a project “home page” for a Scheduled Course so that I can tell participants about important thinks such as “I’m delayed in posting chapter 7.”.\r\n",
            "\n",
            "3 As a participant, I can read announcements from an instructor for a Scheduled Course so that I can keep up to date on news.\r\n",
            "\n",
            "4 As an instructor, I can create quizzes so that participants can assess their learning.\r\n",
            "\n",
            "5 As a participant, I can take a quiz as part of a course so that I can get feedback on how well I learned material in the previous video(s).\r\n",
            "\n",
            "6 As a participant, I see if I pass a quiz after I finish taking it so that I can get feedback on how well I learned material in the previous video(s).\r\n",
            "\n",
            "7 As an instructor, I want quiz responses stored in the database so that I can see how people are doing at various questions, perhaps so I can fix one that is worded poorly.\r\n",
            "\n",
            "8 As a participant, I can see which quizzes I’ve passed, not passed, or not yet taken when viewing the course outline so that I know which quizzes I need to take or possibly re-take.\r\n",
            "\n",
            "9 As a participant, I can leave a comment about a course so that I can tell the world what I think of it.\r\n",
            "\n",
            "10 As a participant, I want to receive feedback after each quiz question so that I can see if I got the question right or wrong.\r\n",
            "\n",
            "11 As a participant, I can navigate a quiz by submitting an answer or by pressing skip (forward) or back so that I can answer questions in a different order if I’d like.\r\n",
            "\n",
            "12 As a site visitor, I can read an FAQ so that all my questions are answered.\n",
            "13 As a participant, I can get answers via video rather than text so that I watch rather than read an answer\r\n",
            "\n",
            "14 As a search engine, I can view a site map so that all pages are indexed.\r\n",
            "\n",
            "15 As an instructor, I can view all feedback for a course when logged in so that I can see historical or aggregate data on my courses.\r\n",
            "\n",
            "16 As a participant, I can manage my account so that it reflects my current information.\r\n",
            "\n",
            "17 As a participant, I can view a list of all courses I’ve taken and the PDUs each earned me so that I have access to that historical information and don’t call someone instead.\r\n",
            "\n",
            "18 As an instructor, I can upload videos to be part of a course so that participants can watch those videos.\r\n",
            "\n",
            "19 As an instructor, I can create a quiz to include in a video course so that participants can take those quizzes to ensure they are learning\r\n",
            "\n",
            "20 As an instructor, I can properly sequence the elements of course so that I can assemble them into an amazing course.\r\n",
            "\n",
            "21 As an instructor, I indicate whether a discussion forum is part of a course so that I can add a forum to some but not all courses.\r\n",
            "\n",
            "22 As an instructor, I can indicate the schedule for a course so that prospective participants and participants can see what course elements will be presented each week and what they’ll be.\r\n",
            "\n",
            "23 As an instructor, I can set the publication date for course elements (for a scheduled course) so that items become available when I want and not sooner.\r\n",
            "\n",
            "24 As an instructor, I can add subtitles to any video so that it is more accessible.\r\n",
            "\n",
            "25 As an instructor, I can set the thumbnail image for each video so that the image is one I like rather than randomly selected.\r\n",
            "\n",
            "26 As a site owner, I want all videos to be watermarked with a Front Row Agile logo so that the videos are clearly from the Front Row Agile site.\r\n",
            "\n",
            "27 As a trainer, I can set the prices for my course so that I can make filthy lucre.\r\n",
            "\n",
            "28 As a trainer, I can set quantity thresholds and discounts so that I can offer lower prices for larger orders such as “buy three, get 10% off”.\r\n",
            "\n",
            "29 As a trainer, I can create discount codes I can give to people so that I can customise pricing.\r\n",
            "\n",
            "30 As a site visitor, I can put courses in my shopping cart so that I can purchase them and participate in (watch) them.\r\n",
            "\n",
            "31 As a site visitor, I can put one chapter of a course in my shopping cart so that I can purchase just a part of a course.\r\n",
            "\n",
            "32 As a site visitor, I can pay for the courses in my cart with a credit card so that I can purchase them and participate in (watch) them.\r\n",
            "\n",
            "33 As a site visitor, I can pay for the courses in my cart with PayPal so that I can purchase them and participate in (watch) them.\r\n",
            "\n",
            "34 As a buyer, I receive a receipt for any course I pay for so that I can prove I paid for it.\r\n",
            "\n",
            "35 As a participant, I can announce my participation in a course at various times to various social media sites so that I can tell others about what I’m doing.\r\n",
            "\n",
            "36 As a user, I can view the license terms before purchasing or subscribing so that I know what I’m getting.\r\n",
            "\n",
            "37 As a participant, I can sign up for a monthly or annual subscription so that I can take all courses .\r\n",
            "\n",
            "38 As a company, I can purchase multiple licenses so that I can manage course registrations for a group of people.\r\n",
            "\n",
            "39 As a company, I manage a set of course registrations so that I can control which employees in my company have access to which courses.\r\n",
            "\n",
            "40 As a company, I can purchase a site license so that everyone in my company can take the course.\r\n",
            "\n",
            "41 As a participant, I can re-watch any video so that I can make sure I understand it.\r\n",
            "\n",
            "42 As a participant, I want each course element (such as a video) marked as viewed after I view or complete it so that I can see which parts of a course I’ve completed.\r\n",
            "\n",
            "43 As a site visitor, I can view some videos for free so that I can decide if I want to buy the full course.\r\n",
            "\n",
            "44 As a participant, I can set a mode on the videos so that one begins as the previous one finishes so that I can watch without having to touch my keyboard, mouse or screen.\r\n",
            "\n",
            "45 As a participant, I am shown a page telling me how to get learning credits after I complete the course so that I earn the credit I might have been interested in.\r\n",
            "\n",
            "46 As a participant, I can earn a certificate of completion by finishing a course so that I have proof that I completed a course.\r\n",
            "\n",
            "47 As a participant, I can earn a badge showing that I completed a course so that I can display that badge on my own website.\r\n",
            "\n",
            "48 As an instructor, I can leave a comment about a sample video or the course so that I can respond to other comments.\r\n",
            "\n",
            "49 As an instructor, I can create a description of a course so that prospective participants can learn about it.\r\n",
            "\n",
            "50 As a site visitor, I can browse a catalog of all courses available so that I can pick the right one for me.\r\n",
            "\n",
            "51 As an instructor, I can maintain a bio about myself so that it is used on any course listing for which I’m the instructor.\r\n",
            "\n",
            "52 As a site visitor, I can view a detailed page about each course so that I can learn all about it.\r\n",
            "\n",
            "53 As a site visitor, I can see a list of other related courses when viewing a course so that I can see other courses I might be interested in.\r\n",
            "\n",
            "54 As a participant, I am shown an evaluation form after completing a course so that I can tell FrontRowAgile.com what I think of their classes and their devilishly good-looking trainers.\r\n",
            "\n",
            "55 As an instructor, I can opt into receiving an email of every course evaluation as it completed by a participant so that I get real-time feedback on my courses.\r\n",
            "\n",
            "56 As a site visitor, I can read a privacy policy so that I know what’s private.\r\n",
            "\n",
            "57 As a participant, I have a page I can link to and share with others that shows all the training courses I’ve completed so that people can see all the great stuff I’ve learned.\r\n",
            "\n",
            "58 As an instructor, I can export all feedback for a course to a CSV file so that I can perform more in-depth analysis.\r\n",
            "\n",
            "59 As a site visitor, I can sign up for a newsletter so that I get announcements about new courses and other information.\r\n",
            "\n",
            "60 As a site visitor, I see “Featured Products” on the home page so that I see the products the site most wants all visitors to see.\n"
          ]
        }
      ]
    },
    {
      "cell_type": "code",
      "source": [
        "\n",
        "\n",
        "file=open('/content/drive/MyDrive/Colab Notebooks/university.txt')\n",
        "nlp=spacy.load(\"en_core_web_sm\")\n",
        "\"\"\"\n",
        "for sentenceVar in doc1.sents:\n",
        "  print(sentenceVar)\n",
        "  print(\"new sentence\")\n",
        "\"\"\"\n",
        "\n",
        "from spacy.language import Language\n",
        "\n",
        "@Language.component(\"custom_sentencizer\")\n",
        "def custom_sentencizer(doc):\n",
        "    for i, token in enumerate(doc[:-2]):\n",
        "        # Define sentence start if pipe + titlecase token\n",
        "        if token.text == \"|\" and doc[i + 1].pos_=='DET':\n",
        "            doc[i + 1].is_sent_start = True\n",
        "        else:\n",
        "            # Explicitly set sentence start to False otherwise, to tell\n",
        "            # the parser to leave those tokens alone\n",
        "            doc[i + 1].is_sent_start = False\n",
        "    return doc\n",
        "\n",
        "nlp = spacy.load(\"en_core_web_sm\")\n",
        "nlp.add_pipe(\"custom_sentencizer\", before=\"parser\")  # Insert before the parser\n",
        "doc = nlp(\"This is. A sentence This is. Another sentence.\")\n",
        "for sent in doc.sents:\n",
        "    print(sent.text)\n",
        "\n",
        "\n",
        "\n",
        "\n",
        "\n",
        "\n",
        "\n",
        "\n",
        "@Language.component(\"set_custom_boundaries\")\n",
        "def set_custom_boundaries(doc):\n",
        "\n",
        "  for i, token in enumerate(doc[:-1]):\n",
        "    print(token)\n",
        "    if token.text == \".\" and doc[i + 1].pos_==\"ADP\":\n",
        "      doc[i + 1].is_sent_start = True\n",
        "    elif token.text != '.' and doc[i + 1].pos_==\"ADP\" :\n",
        "       doc[i + 1].is_sent_start = True\n",
        "    else:\n",
        "         # Explicitly set sentence start to False otherwise, to tell\n",
        "         # the parser to leave those tokens alone\n",
        "      doc[i + 1].is_sent_start = False\n",
        "\n",
        "\n",
        "    return doc\n",
        "\n",
        "\n",
        "nlp.add_pipe(\"set_custom_boundaries\",before=\"parser\")\n",
        "nlp.pipe_names\n",
        "  \n",
        "\n",
        "doc1=nlp(file.read())\n",
        "for sentenceVar in doc1.sents:\n",
        "  print(sentenceVar[0].pos_)\n",
        "  print(\"new sentence@@@@@@@@\")\n",
        "  print(sentenceVar)\n",
        "\n",
        "  \"\"\"\n",
        "i=0\n",
        "for x in doc1:\n",
        "  if x.is_sent_start:\n",
        "    i=i+1\n",
        "    print(x)\n",
        "print (i)\n",
        "\"\"\"\n",
        "\n"
      ],
      "metadata": {
        "id": "aIp3cq9FhK89",
        "colab": {
          "base_uri": "https://localhost:8080/"
        },
        "outputId": "dae20f28-8e9f-4272-eba5-dcfb950b4a8d"
      },
      "execution_count": null,
      "outputs": [
        {
          "output_type": "stream",
          "name": "stderr",
          "text": [
            "/usr/local/lib/python3.8/dist-packages/spacy/util.py:877: UserWarning: [W095] Model 'en_core_web_sm' (3.4.1) was trained with spaCy v3.4 and may not be 100% compatible with the current version (3.5.0). If you see errors or degraded performance, download a newer compatible model or retrain your custom model with the current spaCy version. For more details and available updates, run: python -m spacy validate\n",
            "  warnings.warn(warn_msg)\n"
          ]
        },
        {
          "output_type": "stream",
          "name": "stdout",
          "text": [
            "This is. A sentence This is. Another sentence.\n",
            "As\n",
            "ADP\n",
            "new sentence@@@@@@@@\n",
            "As a participant, I do not want the site shut down while I’m in the midst of a quiz or video so that my progress isn’t interrupted.\n",
            "As a participant, I can participate in a forum for a course so that I can discuss questions and topics with the instructor and other participants.\n",
            "As an instructor, I can post announcements to a project “home page” for a Scheduled Course so that I can tell participants about important thinks such as “I’m delayed in posting chapter 7.”.\n",
            "As a participant, I can read announcements from an instructor for a Scheduled Course so that I can keep up to date on news.\n",
            "As an instructor, I can create quizzes so that participants can assess their learning.\n",
            "As a participant, I can take a quiz as part of a course so that I can get feedback on how well I learned material in the previous video(s).\n",
            "As a participant, I see if I pass a quiz after I finish taking it so that I can get feedback on how well I learned material in the previous video(s).\n",
            "As an instructor, I want quiz responses stored in the database so that I can see how people are doing at various questions, perhaps so I can fix one that is worded poorly.\n",
            "As a participant, I can see which quizzes I’ve passed, not passed, or not yet taken when viewing the course outline so that I know which quizzes I need to take or possibly re-take.\n",
            "As a participant, I can leave a comment about a course so that I can tell the world what I think of it.\n",
            "As a participant, I want to receive feedback after each quiz question so that I can see if I got the question right or wrong.\n",
            "As a participant, I can navigate a quiz by submitting an answer or by pressing skip (forward) or back so that I can answer questions in a different order if I’d like.\n",
            "As a site visitor, I can read an FAQ so that all my questions are answered.As a participant, I can get answers via video rather than text so that I watch rather than read an answer\n",
            "As a search engine, I can view a site map so that all pages are indexed.\n",
            "As an instructor, I can view all feedback for a course when logged in so that I can see historical or aggregate data on my courses.\n",
            "As a participant, I can manage my account so that it reflects my current information.\n",
            "As a participant, I can view a list of all courses I’ve taken and the PDUs each earned me so that I have access to that historical information and don’t call someone instead.\n",
            "As an instructor, I can upload videos to be part of a course so that participants can watch those videos.\n",
            "As an instructor, I can create a quiz to include in a video course so that participants can take those quizzes to ensure they are learning\n",
            "As an instructor, I can properly sequence the elements of course so that I can assemble them into an amazing course.\n",
            "As an instructor, I indicate whether a discussion forum is part of a course so that I can add a forum to some but not all courses.\n",
            "As an instructor, I can indicate the schedule for a course so that prospective participants and participants can see what course elements will be presented each week and what they’ll be.\n",
            "As an instructor, I can set the publication date for course elements (for a scheduled course) so that items become available when I want and not sooner.\n",
            "As an instructor, I can add subtitles to any video so that it is more accessible.\n",
            "As an instructor, I can set the thumbnail image for each video so that the image is one I like rather than randomly selected.\n",
            "As a site owner, I want all videos to be watermarked with a Front Row Agile logo so that the videos are clearly from the Front Row Agile site.\n",
            "As a trainer, I can set the prices for my course so that I can make filthy lucre.\n",
            "As a trainer, I can set quantity thresholds and discounts so that I can offer lower prices for larger orders such as “buy three, get 10% off”.\n",
            "As a trainer, I can create discount codes I can give to people so that I can customise pricing.\n",
            "As a site visitor, I can put courses in my shopping cart so that I can purchase them and participate in (watch) them.\n",
            "As a site visitor, I can put one chapter of a course in my shopping cart so that I can purchase just a part of a course.\n",
            "As a site visitor, I can pay for the courses in my cart with a credit card so that I can purchase them and participate in (watch) them.\n",
            "As a site visitor, I can pay for the courses in my cart with PayPal so that I can purchase them and participate in (watch) them.\n",
            "As a buyer, I receive a receipt for any course I pay for so that I can prove I paid for it.\n",
            "As a participant, I can announce my participation in a course at various times to various social media sites so that I can tell others about what I’m doing.\n",
            "As a user, I can view the license terms before purchasing or subscribing so that I know what I’m getting.\n",
            "As a participant, I can sign up for a monthly or annual subscription so that I can take all courses .\n",
            "As a company, I can purchase multiple licenses so that I can manage course registrations for a group of people.\n",
            "As a company, I manage a set of course registrations so that I can control which employees in my company have access to which courses.\n",
            "As a company, I can purchase a site license so that everyone in my company can take the course.\n",
            "As a participant, I can re-watch any video so that I can make sure I understand it.\n",
            "As a participant, I want each course element (such as a video) marked as viewed after I view or complete it so that I can see which parts of a course I’ve completed.\n",
            "As a site visitor, I can view some videos for free so that I can decide if I want to buy the full course.\n",
            "As a participant, I can set a mode on the videos so that one begins as the previous one finishes so that I can watch without having to touch my keyboard, mouse or screen.\n",
            "As a participant, I am shown a page telling me how to get learning credits after I complete the course so that I earn the credit I might have been interested in.\n",
            "As a participant, I can earn a certificate of completion by finishing a course so that I have proof that I completed a course.\n",
            "As a participant, I can earn a badge showing that I completed a course so that I can display that badge on my own website.\n",
            "As an instructor, I can leave a comment about a sample video or the course so that I can respond to other comments.\n",
            "As an instructor, I can create a description of a course so that prospective participants can learn about it.\n",
            "As a site visitor, I can browse a catalog of all courses available so that I can pick the right one for me.\n",
            "As an instructor, I can maintain a bio about myself so that it is used on any course listing for which I’m the instructor.\n",
            "As a site visitor, I can view a detailed page about each course so that I can learn all about it.\n",
            "As a site visitor, I can see a list of other related courses when viewing a course so that I can see other courses I might be interested in.\n",
            "As a participant, I am shown an evaluation form after completing a course so that I can tell FrontRowAgile.com what I think of their classes and their devilishly good-looking trainers.\n",
            "As an instructor, I can opt into receiving an email of every course evaluation as it completed by a participant so that I get real-time feedback on my courses.\n",
            "As a site visitor, I can read a privacy policy so that I know what’s private.\n",
            "As a participant, I have a page I can link to and share with others that shows all the training courses I’ve completed so that people can see all the great stuff I’ve learned.\n",
            "As an instructor, I can export all feedback for a course to a CSV file so that I can perform more in-depth analysis.\n",
            "As a site visitor, I can sign up for a newsletter so that I get announcements about new courses and other information.\n",
            "As a site visitor, I see “Featured Products” on the home page so that I see the products the site most wants all visitors to see.\n"
          ]
        }
      ]
    },
    {
      "cell_type": "code",
      "source": [
        "\n",
        "\n",
        "doc = nlp(sentence)\n",
        "displacy.render(doc, style=\"dep\", jupyter=True)"
      ],
      "metadata": {
        "id": "0z9DRVy1C2m0"
      },
      "execution_count": null,
      "outputs": []
    },
    {
      "cell_type": "code",
      "source": [
        "import en_core_web_sm\n",
        "nlp = spacy.load(\"en_core_web_sm\")\n",
        "doc = nlp(\"Autonomous cars shift insurance liability toward manufacturers\")\n",
        "for chunk in doc.noun_chunks:\n",
        "    print(chunk.text, chunk.root.text, chunk.root.dep_,\n",
        "            chunk.root.head.text)\n",
        "\n"
      ],
      "metadata": {
        "id": "gY8PWkMZq176"
      },
      "execution_count": null,
      "outputs": []
    }
  ]
}