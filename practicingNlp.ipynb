{
  "nbformat": 4,
  "nbformat_minor": 0,
  "metadata": {
    "colab": {
      "provenance": [],
      "include_colab_link": true
    },
    "kernelspec": {
      "name": "python3",
      "display_name": "Python 3"
    },
    "language_info": {
      "name": "python"
    },
    "gpuClass": "standard"
  },
  "cells": [
    {
      "cell_type": "markdown",
      "metadata": {
        "id": "view-in-github",
        "colab_type": "text"
      },
      "source": [
        "<a href=\"https://colab.research.google.com/github/T-King-00/Gp-AutomationOfBaTasks/blob/tony/practicingNlp.ipynb\" target=\"_parent\"><img src=\"https://colab.research.google.com/assets/colab-badge.svg\" alt=\"Open In Colab\"/></a>"
      ]
    },
    {
      "cell_type": "code",
      "source": [
        "from google.colab import drive\n",
        "from os import read\n",
        "from google.colab import drive\n",
        "drive.mount('/content/drive')\n"
      ],
      "metadata": {
        "id": "fIa8uNEd69_y",
        "colab": {
          "base_uri": "https://localhost:8080/"
        },
        "outputId": "d4116ddc-9329-4dbb-b37a-e9cace108d3b"
      },
      "execution_count": 48,
      "outputs": [
        {
          "output_type": "stream",
          "name": "stdout",
          "text": [
            "Drive already mounted at /content/drive; to attempt to forcibly remount, call drive.mount(\"/content/drive\", force_remount=True).\n"
          ]
        }
      ]
    },
    {
      "cell_type": "code",
      "source": [
        "from spacy.language import Language"
      ],
      "metadata": {
        "id": "gSixyAQyCOVF"
      },
      "execution_count": 78,
      "outputs": []
    },
    {
      "cell_type": "code",
      "source": [
        "@Language.component(\"custom_sentencizer\")\n",
        "def custom_sentencizer(doc):\n",
        "    for i, token in enumerate(doc[:-1]):\n",
        "    \n",
        "        if token.text == \".\" and token.text == \"As\" :\n",
        "          doc[i + 1].is_sent_start = True\n",
        "        elif  token.text == \"As\":\n",
        "          doc[i].is_sent_start = True\n",
        "        else:\n",
        "            # Explicitly set sentence start to False otherwise, to tell\n",
        "            # the parser to leave those tokens alone\n",
        "            doc[i + 1].is_sent_start = False\n",
        "    return doc\n",
        "\n",
        "nlp = spacy.load(\"en_core_web_sm\")\n",
        "nlp.add_pipe(\"custom_sentencizer\", before=\"parser\")  # Insert before the parser\n"
      ],
      "metadata": {
        "colab": {
          "base_uri": "https://localhost:8080/"
        },
        "id": "oxKoDEN8Twgk",
        "outputId": "30a919e2-c7fa-4f36-c0fd-28360530575a"
      },
      "execution_count": 104,
      "outputs": [
        {
          "output_type": "stream",
          "name": "stderr",
          "text": [
            "/usr/local/lib/python3.8/dist-packages/spacy/util.py:877: UserWarning: [W095] Model 'en_core_web_sm' (3.4.1) was trained with spaCy v3.4 and may not be 100% compatible with the current version (3.5.0). If you see errors or degraded performance, download a newer compatible model or retrain your custom model with the current spaCy version. For more details and available updates, run: python -m spacy validate\n",
            "  warnings.warn(warn_msg)\n"
          ]
        },
        {
          "output_type": "stream",
          "name": "stdout",
          "text": [
            "####\n",
            "This is sentence\n",
            "####\n",
            "As is Another sentence, tony\n"
          ]
        }
      ]
    },
    {
      "cell_type": "code",
      "source": [
        "###try 1\n",
        "doc = nlp(\"This is sentence As is Another sentence, tony\")\n",
        "for sent in doc.sents:\n",
        "  print(\"####\")\n",
        "  print(sent.text)"
      ],
      "metadata": {
        "id": "T86Dq2m8Y6LT"
      },
      "execution_count": null,
      "outputs": []
    },
    {
      "cell_type": "code",
      "source": [
        "###try 2\n",
        "file=open('/content/drive/MyDrive/Colab Notebooks/university.txt')\n",
        "doc1=nlp(file.read())\n",
        "for i,sentenceVar in enumerate(doc1.sents):\n",
        "  print(i ,sentenceVar)\n"
      ],
      "metadata": {
        "colab": {
          "base_uri": "https://localhost:8080/"
        },
        "id": "KjOzAELtWvnT",
        "outputId": "e531336e-13ae-4b54-cdbb-0e085bdbce26"
      },
      "execution_count": 114,
      "outputs": [
        {
          "output_type": "stream",
          "name": "stdout",
          "text": [
            "0 As a participant, I do not want the site shut down while I’m in the midst of a quiz or video so that my progress isn’t interrupted.\n",
            "\n",
            "1 As a participant, I can participate in a forum for a course so that I can discuss questions and topics with the instructor and other participants.\n",
            "\n",
            "2 As an instructor, I can post announcements to a project “home page” for a Scheduled Course so that I can tell participants about important thinks such as “I’m delayed in posting chapter 7.”.\n",
            "\n",
            "3 As a participant, I can read announcements from an instructor for a Scheduled Course so that I can keep up to date on news.\n",
            "\n",
            "4 As an instructor, I can create quizzes so that participants can assess their learning.\n",
            "\n",
            "5 As a participant, I can take a quiz as part of a course so that I can get feedback on how well I learned material in the previous video(s).\n",
            "\n",
            "6 As a participant, I see if I pass a quiz after I finish taking it so that I can get feedback on how well I learned material in the previous video(s).\n",
            "\n",
            "7 As an instructor, I want quiz responses stored in the database so that I can see how people are doing at various questions, perhaps so I can fix one that is worded poorly.\n",
            "\n",
            "8 As a participant, I can see which quizzes I’ve passed, not passed, or not yet taken when viewing the course outline so that I know which quizzes I need to take or possibly re-take.\n",
            "\n",
            "9 As a participant, I can leave a comment about a course so that I can tell the world what I think of it.\n",
            "\n",
            "10 As a participant, I want to receive feedback after each quiz question so that I can see if I got the question right or wrong.\n",
            "\n",
            "11 As a participant, I can navigate a quiz by submitting an answer or by pressing skip (forward) or back so that I can answer questions in a different order if I’d like.\n",
            "\n",
            "12 As a site visitor, I can read an FAQ so that all my questions are answered.\n",
            "13 As a participant, I can get answers via video rather than text so that I watch rather than read an answer\n",
            "\n",
            "14 As a search engine, I can view a site map so that all pages are indexed.\n",
            "\n",
            "15 As an instructor, I can view all feedback for a course when logged in so that I can see historical or aggregate data on my courses.\n",
            "\n",
            "16 As a participant, I can manage my account so that it reflects my current information.\n",
            "\n",
            "17 As a participant, I can view a list of all courses I’ve taken and the PDUs each earned me so that I have access to that historical information and don’t call someone instead.\n",
            "\n",
            "18 As an instructor, I can upload videos to be part of a course so that participants can watch those videos.\n",
            "\n",
            "19 As an instructor, I can create a quiz to include in a video course so that participants can take those quizzes to ensure they are learning\n",
            "\n",
            "20 As an instructor, I can properly sequence the elements of course so that I can assemble them into an amazing course.\n",
            "\n",
            "21 As an instructor, I indicate whether a discussion forum is part of a course so that I can add a forum to some but not all courses.\n",
            "\n",
            "22 As an instructor, I can indicate the schedule for a course so that prospective participants and participants can see what course elements will be presented each week and what they’ll be.\n",
            "\n",
            "23 As an instructor, I can set the publication date for course elements (for a scheduled course) so that items become available when I want and not sooner.\n",
            "\n",
            "24 As an instructor, I can add subtitles to any video so that it is more accessible.\n",
            "\n",
            "25 As an instructor, I can set the thumbnail image for each video so that the image is one I like rather than randomly selected.\n",
            "\n",
            "26 As a site owner, I want all videos to be watermarked with a Front Row Agile logo so that the videos are clearly from the Front Row Agile site.\n",
            "\n",
            "27 As a trainer, I can set the prices for my course so that I can make filthy lucre.\n",
            "\n",
            "28 As a trainer, I can set quantity thresholds and discounts so that I can offer lower prices for larger orders such as “buy three, get 10% off”.\n",
            "\n",
            "29 As a trainer, I can create discount codes I can give to people so that I can customise pricing.\n",
            "\n",
            "30 As a site visitor, I can put courses in my shopping cart so that I can purchase them and participate in (watch) them.\n",
            "\n",
            "31 As a site visitor, I can put one chapter of a course in my shopping cart so that I can purchase just a part of a course.\n",
            "\n",
            "32 As a site visitor, I can pay for the courses in my cart with a credit card so that I can purchase them and participate in (watch) them.\n",
            "\n",
            "33 As a site visitor, I can pay for the courses in my cart with PayPal so that I can purchase them and participate in (watch) them.\n",
            "\n",
            "34 As a buyer, I receive a receipt for any course I pay for so that I can prove I paid for it.\n",
            "\n",
            "35 As a participant, I can announce my participation in a course at various times to various social media sites so that I can tell others about what I’m doing.\n",
            "\n",
            "36 As a user, I can view the license terms before purchasing or subscribing so that I know what I’m getting.\n",
            "\n",
            "37 As a participant, I can sign up for a monthly or annual subscription so that I can take all courses .\n",
            "\n",
            "38 As a company, I can purchase multiple licenses so that I can manage course registrations for a group of people.\n",
            "\n",
            "39 As a company, I manage a set of course registrations so that I can control which employees in my company have access to which courses.\n",
            "\n",
            "40 As a company, I can purchase a site license so that everyone in my company can take the course.\n",
            "\n",
            "41 As a participant, I can re-watch any video so that I can make sure I understand it.\n",
            "\n",
            "42 As a participant, I want each course element (such as a video) marked as viewed after I view or complete it so that I can see which parts of a course I’ve completed.\n",
            "\n",
            "43 As a site visitor, I can view some videos for free so that I can decide if I want to buy the full course.\n",
            "\n",
            "44 As a participant, I can set a mode on the videos so that one begins as the previous one finishes so that I can watch without having to touch my keyboard, mouse or screen.\n",
            "\n",
            "45 As a participant, I am shown a page telling me how to get learning credits after I complete the course so that I earn the credit I might have been interested in.\n",
            "\n",
            "46 As a participant, I can earn a certificate of completion by finishing a course so that I have proof that I completed a course.\n",
            "\n",
            "47 As a participant, I can earn a badge showing that I completed a course so that I can display that badge on my own website.\n",
            "\n",
            "48 As an instructor, I can leave a comment about a sample video or the course so that I can respond to other comments.\n",
            "\n",
            "49 As an instructor, I can create a description of a course so that prospective participants can learn about it.\n",
            "\n",
            "50 As a site visitor, I can browse a catalog of all courses available so that I can pick the right one for me.\n",
            "\n",
            "51 As an instructor, I can maintain a bio about myself so that it is used on any course listing for which I’m the instructor.\n",
            "\n",
            "52 As a site visitor, I can view a detailed page about each course so that I can learn all about it.\n",
            "\n",
            "53 As a site visitor, I can see a list of other related courses when viewing a course so that I can see other courses I might be interested in.\n",
            "\n",
            "54 As a participant, I am shown an evaluation form after completing a course so that I can tell FrontRowAgile.com what I think of their classes and their devilishly good-looking trainers.\n",
            "\n",
            "55 As an instructor, I can opt into receiving an email of every course evaluation as it completed by a participant so that I get real-time feedback on my courses.\n",
            "\n",
            "56 As a site visitor, I can read a privacy policy so that I know what’s private.\n",
            "\n",
            "57 As a participant, I have a page I can link to and share with others that shows all the training courses I’ve completed so that people can see all the great stuff I’ve learned.\n",
            "\n",
            "58 As an instructor, I can export all feedback for a course to a CSV file so that I can perform more in-depth analysis.\n",
            "\n",
            "59 As a site visitor, I can sign up for a newsletter so that I get announcements about new courses and other information.\n",
            "\n",
            "60 As a site visitor, I see “Featured Products” on the home page so that I see the products the site most wants all visitors to see.\n"
          ]
        }
      ]
    },
    {
      "cell_type": "code",
      "source": [
        "\n",
        "\n",
        "file=open('/content/drive/MyDrive/Colab Notebooks/university.txt')\n",
        "\n",
        "nlp=spacy.load(\"en_core_web_sm\")\n",
        "\n",
        "\n",
        "\"\"\"\n",
        "for sentenceVar in doc1.sents:\n",
        "  print(sentenceVar)\n",
        "  print(\"new sentence\")\n",
        "\"\"\"\n",
        "\n",
        "from spacy.language import Language\n",
        "\n",
        "@Language.component(\"custom_sentencizer\")\n",
        "def custom_sentencizer(doc):\n",
        "    for i, token in enumerate(doc[:-2]):\n",
        "        # Define sentence start if pipe + titlecase token\n",
        "        if token.text == \"|\" and doc[i + 1].pos_=='DET':\n",
        "            doc[i + 1].is_sent_start = True\n",
        "        else:\n",
        "            # Explicitly set sentence start to False otherwise, to tell\n",
        "            # the parser to leave those tokens alone\n",
        "            doc[i + 1].is_sent_start = False\n",
        "    return doc\n",
        "\n",
        "nlp = spacy.load(\"en_core_web_sm\")\n",
        "nlp.add_pipe(\"custom_sentencizer\", before=\"parser\")  # Insert before the parser\n",
        "doc = nlp(\"This is. A sentence This is. Another sentence.\")\n",
        "for sent in doc.sents:\n",
        "    print(sent.text)\n",
        "\n",
        "\n",
        "\n",
        "\n",
        "\n",
        "\n",
        "\n",
        "\n",
        "@Language.component(\"set_custom_boundaries\")\n",
        "def set_custom_boundaries(doc):\n",
        "\n",
        "  for i, token in enumerate(doc[:-1]):\n",
        "    print(token)\n",
        "    if token.text == \".\" and doc[i + 1].pos_==\"ADP\":\n",
        "      doc[i + 1].is_sent_start = True\n",
        "    elif token.text != '.' and doc[i + 1].pos_==\"ADP\" :\n",
        "       doc[i + 1].is_sent_start = True\n",
        "    else:\n",
        "         # Explicitly set sentence start to False otherwise, to tell\n",
        "         # the parser to leave those tokens alone\n",
        "      doc[i + 1].is_sent_start = False\n",
        "\n",
        "\n",
        "    return doc\n",
        "\n",
        "\n",
        "nlp.add_pipe(\"set_custom_boundaries\",before=\"parser\")\n",
        "nlp.pipe_names\n",
        "  \n",
        "\n",
        "doc1=nlp(file.read())\n",
        "for sentenceVar in doc1.sents:\n",
        "  print(sentenceVar[0].pos_)\n",
        "  print(\"new sentence@@@@@@@@\")\n",
        "  print(sentenceVar)\n",
        "\n",
        "  \"\"\"\n",
        "i=0\n",
        "for x in doc1:\n",
        "  if x.is_sent_start:\n",
        "    i=i+1\n",
        "    print(x)\n",
        "print (i)\n",
        "\"\"\"\n",
        "\n"
      ],
      "metadata": {
        "id": "aIp3cq9FhK89",
        "colab": {
          "base_uri": "https://localhost:8080/"
        },
        "outputId": "dae20f28-8e9f-4272-eba5-dcfb950b4a8d"
      },
      "execution_count": 76,
      "outputs": [
        {
          "output_type": "stream",
          "name": "stderr",
          "text": [
            "/usr/local/lib/python3.8/dist-packages/spacy/util.py:877: UserWarning: [W095] Model 'en_core_web_sm' (3.4.1) was trained with spaCy v3.4 and may not be 100% compatible with the current version (3.5.0). If you see errors or degraded performance, download a newer compatible model or retrain your custom model with the current spaCy version. For more details and available updates, run: python -m spacy validate\n",
            "  warnings.warn(warn_msg)\n"
          ]
        },
        {
          "output_type": "stream",
          "name": "stdout",
          "text": [
            "This is. A sentence This is. Another sentence.\n",
            "As\n",
            "ADP\n",
            "new sentence@@@@@@@@\n",
            "As a participant, I do not want the site shut down while I’m in the midst of a quiz or video so that my progress isn’t interrupted.\n",
            "As a participant, I can participate in a forum for a course so that I can discuss questions and topics with the instructor and other participants.\n",
            "As an instructor, I can post announcements to a project “home page” for a Scheduled Course so that I can tell participants about important thinks such as “I’m delayed in posting chapter 7.”.\n",
            "As a participant, I can read announcements from an instructor for a Scheduled Course so that I can keep up to date on news.\n",
            "As an instructor, I can create quizzes so that participants can assess their learning.\n",
            "As a participant, I can take a quiz as part of a course so that I can get feedback on how well I learned material in the previous video(s).\n",
            "As a participant, I see if I pass a quiz after I finish taking it so that I can get feedback on how well I learned material in the previous video(s).\n",
            "As an instructor, I want quiz responses stored in the database so that I can see how people are doing at various questions, perhaps so I can fix one that is worded poorly.\n",
            "As a participant, I can see which quizzes I’ve passed, not passed, or not yet taken when viewing the course outline so that I know which quizzes I need to take or possibly re-take.\n",
            "As a participant, I can leave a comment about a course so that I can tell the world what I think of it.\n",
            "As a participant, I want to receive feedback after each quiz question so that I can see if I got the question right or wrong.\n",
            "As a participant, I can navigate a quiz by submitting an answer or by pressing skip (forward) or back so that I can answer questions in a different order if I’d like.\n",
            "As a site visitor, I can read an FAQ so that all my questions are answered.As a participant, I can get answers via video rather than text so that I watch rather than read an answer\n",
            "As a search engine, I can view a site map so that all pages are indexed.\n",
            "As an instructor, I can view all feedback for a course when logged in so that I can see historical or aggregate data on my courses.\n",
            "As a participant, I can manage my account so that it reflects my current information.\n",
            "As a participant, I can view a list of all courses I’ve taken and the PDUs each earned me so that I have access to that historical information and don’t call someone instead.\n",
            "As an instructor, I can upload videos to be part of a course so that participants can watch those videos.\n",
            "As an instructor, I can create a quiz to include in a video course so that participants can take those quizzes to ensure they are learning\n",
            "As an instructor, I can properly sequence the elements of course so that I can assemble them into an amazing course.\n",
            "As an instructor, I indicate whether a discussion forum is part of a course so that I can add a forum to some but not all courses.\n",
            "As an instructor, I can indicate the schedule for a course so that prospective participants and participants can see what course elements will be presented each week and what they’ll be.\n",
            "As an instructor, I can set the publication date for course elements (for a scheduled course) so that items become available when I want and not sooner.\n",
            "As an instructor, I can add subtitles to any video so that it is more accessible.\n",
            "As an instructor, I can set the thumbnail image for each video so that the image is one I like rather than randomly selected.\n",
            "As a site owner, I want all videos to be watermarked with a Front Row Agile logo so that the videos are clearly from the Front Row Agile site.\n",
            "As a trainer, I can set the prices for my course so that I can make filthy lucre.\n",
            "As a trainer, I can set quantity thresholds and discounts so that I can offer lower prices for larger orders such as “buy three, get 10% off”.\n",
            "As a trainer, I can create discount codes I can give to people so that I can customise pricing.\n",
            "As a site visitor, I can put courses in my shopping cart so that I can purchase them and participate in (watch) them.\n",
            "As a site visitor, I can put one chapter of a course in my shopping cart so that I can purchase just a part of a course.\n",
            "As a site visitor, I can pay for the courses in my cart with a credit card so that I can purchase them and participate in (watch) them.\n",
            "As a site visitor, I can pay for the courses in my cart with PayPal so that I can purchase them and participate in (watch) them.\n",
            "As a buyer, I receive a receipt for any course I pay for so that I can prove I paid for it.\n",
            "As a participant, I can announce my participation in a course at various times to various social media sites so that I can tell others about what I’m doing.\n",
            "As a user, I can view the license terms before purchasing or subscribing so that I know what I’m getting.\n",
            "As a participant, I can sign up for a monthly or annual subscription so that I can take all courses .\n",
            "As a company, I can purchase multiple licenses so that I can manage course registrations for a group of people.\n",
            "As a company, I manage a set of course registrations so that I can control which employees in my company have access to which courses.\n",
            "As a company, I can purchase a site license so that everyone in my company can take the course.\n",
            "As a participant, I can re-watch any video so that I can make sure I understand it.\n",
            "As a participant, I want each course element (such as a video) marked as viewed after I view or complete it so that I can see which parts of a course I’ve completed.\n",
            "As a site visitor, I can view some videos for free so that I can decide if I want to buy the full course.\n",
            "As a participant, I can set a mode on the videos so that one begins as the previous one finishes so that I can watch without having to touch my keyboard, mouse or screen.\n",
            "As a participant, I am shown a page telling me how to get learning credits after I complete the course so that I earn the credit I might have been interested in.\n",
            "As a participant, I can earn a certificate of completion by finishing a course so that I have proof that I completed a course.\n",
            "As a participant, I can earn a badge showing that I completed a course so that I can display that badge on my own website.\n",
            "As an instructor, I can leave a comment about a sample video or the course so that I can respond to other comments.\n",
            "As an instructor, I can create a description of a course so that prospective participants can learn about it.\n",
            "As a site visitor, I can browse a catalog of all courses available so that I can pick the right one for me.\n",
            "As an instructor, I can maintain a bio about myself so that it is used on any course listing for which I’m the instructor.\n",
            "As a site visitor, I can view a detailed page about each course so that I can learn all about it.\n",
            "As a site visitor, I can see a list of other related courses when viewing a course so that I can see other courses I might be interested in.\n",
            "As a participant, I am shown an evaluation form after completing a course so that I can tell FrontRowAgile.com what I think of their classes and their devilishly good-looking trainers.\n",
            "As an instructor, I can opt into receiving an email of every course evaluation as it completed by a participant so that I get real-time feedback on my courses.\n",
            "As a site visitor, I can read a privacy policy so that I know what’s private.\n",
            "As a participant, I have a page I can link to and share with others that shows all the training courses I’ve completed so that people can see all the great stuff I’ve learned.\n",
            "As an instructor, I can export all feedback for a course to a CSV file so that I can perform more in-depth analysis.\n",
            "As a site visitor, I can sign up for a newsletter so that I get announcements about new courses and other information.\n",
            "As a site visitor, I see “Featured Products” on the home page so that I see the products the site most wants all visitors to see.\n"
          ]
        }
      ]
    },
    {
      "cell_type": "code",
      "source": [
        "\n",
        "\n",
        "doc = nlp(sentence)\n",
        "displacy.render(doc, style=\"dep\", jupyter=True)"
      ],
      "metadata": {
        "id": "0z9DRVy1C2m0"
      },
      "execution_count": null,
      "outputs": []
    },
    {
      "cell_type": "code",
      "source": [
        "import en_core_web_sm\n",
        "nlp = spacy.load(\"en_core_web_sm\")\n",
        "doc = nlp(\"Autonomous cars shift insurance liability toward manufacturers\")\n",
        "for chunk in doc.noun_chunks:\n",
        "    print(chunk.text, chunk.root.text, chunk.root.dep_,\n",
        "            chunk.root.head.text)\n",
        "\n"
      ],
      "metadata": {
        "id": "gY8PWkMZq176"
      },
      "execution_count": null,
      "outputs": []
    }
  ]
}